{
  "nbformat": 4,
  "nbformat_minor": 0,
  "metadata": {
    "colab": {
      "name": "Copi \"Praktika_Python_2.ipynb\"",
      "provenance": [],
      "collapsed_sections": []
    },
    "kernelspec": {
      "name": "python3",
      "display_name": "Python 3"
    },
    "language_info": {
      "name": "python"
    }
  },
  "cells": [
    {
      "cell_type": "markdown",
      "source": [
        "#Практическое упражнение 2\n",
        "\n",
        "1. качайте данный ноутбук и выполните задание (можно в Colab).\n",
        "2. Положите готовый ноутбук в проект и закомитьте изменения (в т.ч. залейте изменения в репозиторий Github)."
      ],
      "metadata": {
        "id": "f8TS6QSGMj4G"
      }
    },
    {
      "cell_type": "markdown",
      "metadata": {
        "id": "ZtT5F5fiizh3"
      },
      "source": [
        "###Задача 1\n",
        "\n",
        "Разделите строку `'We interrupt this program to annoy you and make things generally more irritating'` по пробелам на список строк и объедините эти слова назад в строку но вместо пробела используйте символ '`_`'"
      ]
    },
    {
      "cell_type": "code",
      "source": [
        "dano_str = 'We interrupt this program to annoy you and make things generally more irritating'\n",
        "list_dano_str = dano_str.split()\n",
        "print(\"_\".join(list_dano_str))"
      ],
      "metadata": {
        "id": "0C98G7bJANNX",
        "colab": {
          "base_uri": "https://localhost:8080/"
        },
        "outputId": "9f42fb2e-3859-4bcd-cb65-463c3da2585e"
      },
      "execution_count": null,
      "outputs": [
        {
          "output_type": "stream",
          "name": "stdout",
          "text": [
            "We_interrupt_this_program_to_annoy_you_and_make_things_generally_more_irritating\n"
          ]
        }
      ]
    },
    {
      "cell_type": "markdown",
      "source": [
        "###Задача 2\n",
        "\n",
        "Имеется последовательность кодирующей цепочки ДНК `caggatgtatatatctgacacgttaacctggagactagggagtaatccccaattggcggttaaaacgc`. \n",
        "\n",
        "Выведите символы в последовательности начиная с 10 по 20. \n",
        "\n",
        "Создайте новую последовательность путем утроения этого участка. (пример: из последовательности `tgcct` получится последовательность `tgccttgccttgcct`)\n",
        "\n",
        "Выведите результат в обратном порядке"
      ],
      "metadata": {
        "id": "hQ1o4NXuBGcZ"
      }
    },
    {
      "cell_type": "code",
      "source": [
        "DNA_seq = 'caggatgtatatatctgacacgttaacctggagactagggagtaatccccaattggcggttaaaacgc'\n",
        "print(DNA_seq[10:21]) #Я предпологаю, что последовательность, как и в Python, начинает свой отчет от 0\n",
        "print(DNA_seq[len(DNA_seq):20:-1] + DNA_seq[11::-1])\n",
        "\n"
      ],
      "metadata": {
        "id": "JS_UzejYBKPf",
        "colab": {
          "base_uri": "https://localhost:8080/"
        },
        "outputId": "63e4d51d-c5cd-42ad-836a-15ae176cd06e"
      },
      "execution_count": null,
      "outputs": [
        {
          "output_type": "stream",
          "name": "stdout",
          "text": [
            "atatctgacac\n",
            "cgcaaaattggcggttaacccctaatgagggatcagaggtccaattgtatatgtaggac\n"
          ]
        }
      ]
    },
    {
      "cell_type": "markdown",
      "metadata": {
        "id": "HpIPGWV7YRBV"
      },
      "source": [
        "###Задача 3\n",
        "\n",
        "1) Найдите сайты рестрикции Hpa I (`GTT|AAC`) в последовательности ДНК `'caggatgtatatatctgacacgttaacctggagactagggagtaatccccaattggcggttaaaacgc'`, не забудьте про комплементарную цепь ДНК. Выведите позиции по которым ДНК будет разрезана."
      ]
    },
    {
      "cell_type": "code",
      "source": [
        "DNA_seq5_3 = 'caggatgtatatatctgacacgttaacctggagactagggagtaatccccaattggcggttaaaacgc'"
      ],
      "metadata": {
        "id": "PySzEhxXTY3H"
      },
      "execution_count": null,
      "outputs": []
    },
    {
      "cell_type": "code",
      "source": [
        "def f(dna_s): \n",
        "  d_nuc_DNA = {'a': 't', 't': 'a', 'g': 'c', 'c': 'g'}\n",
        "  DNA_seq3_5 = ''\n",
        "  for nuc in dna_s: \n",
        "   DNA_seq3_5 += d_nuc_DNA[nuc]\n",
        "  return DNA_seq3_5\n"
      ],
      "metadata": {
        "id": "EymwTbPUNMN3"
      },
      "execution_count": null,
      "outputs": []
    },
    {
      "cell_type": "code",
      "source": [
        "sHpal = 'gttaac' #Hpa I (GTT|AAC)\n",
        "print('5 - ' + DNA_seq5_3 + ' - 3')\n",
        "DNA_seq3_5 = f(DNA_seq5_3)\n",
        "print('3 - ' + DNA_seq3_5 + ' - 5')\n",
        "print()\n",
        "print(str(DNA_seq5_3.find(sHpal)) + ' - ' + str(DNA_seq5_3.find(sHpal) + 5))\n",
        "print(str(DNA_seq3_5.find(sHpal)) + ' - ' + str(DNA_seq3_5.find(sHpal) + 5)) #с точки зрения работы рестриктазы это не очень правильноЮ насколько я понимаю, но ладно... На данный момент я лучше ничего не прилумал\n"
      ],
      "metadata": {
        "id": "44ltKujnBZWF",
        "colab": {
          "base_uri": "https://localhost:8080/"
        },
        "outputId": "38c3cecd-af3d-4765-b312-26a57c07df1e"
      },
      "execution_count": null,
      "outputs": [
        {
          "output_type": "stream",
          "name": "stdout",
          "text": [
            "5 - caggatgtatatatctgacacgttaacctggagactagggagtaatccccaattggcggttaaaacgc - 3\n",
            "3 - gtcctacatatatagactgtgcaattggacctctgatccctcattaggggttaaccgccaattttgcg - 5\n",
            "\n",
            "21 - 26\n",
            "49 - 54\n"
          ]
        }
      ]
    },
    {
      "cell_type": "markdown",
      "source": [
        "2) Выведите получившиеся олигонуклеотиды после рестрикции."
      ],
      "metadata": {
        "id": "i81CDhpkBi9J"
      }
    },
    {
      "cell_type": "code",
      "source": [
        "print('5 - ' + DNA_seq5_3[0:24] + '   ' + DNA_seq5_3[24:len(DNA_seq3_5)] + ' - 3')\n",
        "print('3 - ' + DNA_seq3_5[0:52] + '   ' + DNA_seq3_5[52:len(DNA_seq3_5)] + ' - 5')"
      ],
      "metadata": {
        "id": "3z3pYlNzBkRd",
        "colab": {
          "base_uri": "https://localhost:8080/"
        },
        "outputId": "97bf3efe-b8e6-4d8e-c30c-f7858b13a765"
      },
      "execution_count": null,
      "outputs": [
        {
          "output_type": "stream",
          "name": "stdout",
          "text": [
            "5 - caggatgtatatatctgacacgtt   aacctggagactagggagtaatccccaattggcggttaaaacgc - 3\n",
            "3 - gtcctacatatatagactgtgcaattggacctctgatccctcattaggggtt   aaccgccaattttgcg - 5\n"
          ]
        }
      ]
    },
    {
      "cell_type": "markdown",
      "metadata": {
        "id": "bUbMEI-toWkZ"
      },
      "source": [
        "###Задача 4\n",
        "\n",
        "Напишите код, который расчитает сумму всех ключей и значений без использования цикла (ключи и значения могут быть и другими!!!).\n",
        "\n",
        "```\n",
        "dic1={1:10, 2:20}\n",
        "dic2={3:30, 4:40}\n",
        "dic3={5:50, 6:60}\n",
        "\n",
        "Ожидаемый результат строка: 'Sum of keys = 21, sum of values = 210'\n",
        "```"
      ]
    },
    {
      "cell_type": "code",
      "source": [
        "dic1={1:10, 2:20}\n",
        "dic2={3:30, 4:40}\n",
        "dic3={5:50, 6:60}"
      ],
      "metadata": {
        "id": "-_55h-_qDljV"
      },
      "execution_count": null,
      "outputs": []
    },
    {
      "cell_type": "code",
      "source": [
        "sum_k1 = dic1.keys()\n",
        "sum_k2 = dic2.keys()\n",
        "sum_k3 = dic3.keys()\n",
        "\n",
        "sum_v1 = dic1.values()\n",
        "sum_v2 = dic2.values()\n",
        "sum_v3 = dic3.values()\n",
        "\n",
        "print(f'Sum of keys = {sum(list(sum_k1) + list(sum_k2) + list(sum_k3))}, sum of values = {sum(list(sum_v1) + list(sum_v2) + list(sum_v3))}')\n",
        "\n",
        "\n",
        "\n"
      ],
      "metadata": {
        "colab": {
          "base_uri": "https://localhost:8080/"
        },
        "id": "bmNJ7LKn3Ykt",
        "outputId": "1b784f3b-a302-4bee-b884-1821055c2a14"
      },
      "execution_count": null,
      "outputs": [
        {
          "output_type": "stream",
          "name": "stdout",
          "text": [
            "Sum of keys = 21, sum of values = 210\n"
          ]
        }
      ]
    },
    {
      "cell_type": "markdown",
      "source": [
        "###Задача 5\n",
        "\n",
        "Напишите функцию, которая на вход будет принимать список, а возвращать список (типа list) уникальных элементов"
      ],
      "metadata": {
        "id": "yghEPTXkD0Dt"
      }
    },
    {
      "cell_type": "code",
      "source": [
        "dano_01 = ['1', '1', '2', '3', '4', 'Мир', 'Дружба', 'Люда', '5', '3', '4', 'Мир',]\n",
        "\n",
        "dano_02 = [3, 3, 4, 7, 7, 8, 9, 0, 10]\n",
        "\n",
        "def f(l):\n",
        "  return list(set(l)) #Непонимаю почему, но так работает а подругому нет -\\||/-\n",
        "\n",
        "print(f(dano_01))\n",
        "print(f(dano_02))"
      ],
      "metadata": {
        "id": "-orwK2mUEeOk",
        "colab": {
          "base_uri": "https://localhost:8080/"
        },
        "outputId": "764de13f-2f18-43d5-a08d-38208ef8610f"
      },
      "execution_count": null,
      "outputs": [
        {
          "output_type": "stream",
          "name": "stdout",
          "text": [
            "['2', 'Мир', 'Люда', '5', '1', '3', 'Дружба', '4']\n",
            "[0, 3, 4, 7, 8, 9, 10]\n"
          ]
        }
      ]
    },
    {
      "cell_type": "markdown",
      "source": [
        "Вспомогательная строка"
      ],
      "metadata": {
        "id": "KckywmxVP63I"
      }
    },
    {
      "cell_type": "code",
      "source": [
        "print(list(set(dano_01)))"
      ],
      "metadata": {
        "colab": {
          "base_uri": "https://localhost:8080/"
        },
        "id": "XBO79FeNO4k3",
        "outputId": "25f7df0f-36bf-41dc-8fa0-66510bc074dc"
      },
      "execution_count": null,
      "outputs": [
        {
          "output_type": "stream",
          "name": "stdout",
          "text": [
            "['2', 'Мир', 'Люда', '5', '1', '3', 'Дружба', '4']\n"
          ]
        }
      ]
    },
    {
      "cell_type": "markdown",
      "source": [
        "###Задача 6\n",
        "Есть данные о температуре по Фарингейту для разных стран за последние 7 дней в виде словаря:\n",
        "\n",
        "```\n",
        "countries_temperature = {'Thailand': [75.2, 77, 78.8, 73.4, 68, 75.2, 77],\n",
        "                         'Germany': [57.2, 55.4, 59, 59, 53.6, 54, 55.2],\n",
        "                         'Russia': [35.6, 37.4, 39.2, 41, 42.8, 39.2, 38],\n",
        "                         'Poland': [50, 50, 53.6, 57.2, 55.4, 55.4, 54.8]}\n",
        "```\n",
        "\n",
        "Необходимо расчитать для каждой страны среднюю температуру в **Цельсиях**.\n",
        "\n",
        "Результат выведите в следующем виде:\n",
        "\n",
        "```\n",
        "Средняя температура в странах:\n",
        "Thailand - ... С\n",
        "Germany - ... С\n",
        "Russia - ... С\n",
        "Poland - ... С\n",
        "```"
      ],
      "metadata": {
        "id": "seFMJwoInweM"
      }
    },
    {
      "cell_type": "markdown",
      "source": [
        "Формула - (50°F - 32) : 1,8 = 10°C."
      ],
      "metadata": {
        "id": "qlckjSUd811T"
      }
    },
    {
      "cell_type": "code",
      "source": [
        "countries_temperature = {'Thailand': [75.2, 77, 78.8, 73.4, 68, 75.2, 77],\n",
        "                         'Germany': [57.2, 55.4, 59, 59, 53.6, 54, 55.2],\n",
        "                         'Russia': [35.6, 37.4, 39.2, 41, 42.8, 39.2, 38],\n",
        "                         'Poland': [50, 50, 53.6, 57.2, 55.4, 55.4, 54.8],\n",
        "                        }"
      ],
      "metadata": {
        "id": "NwnZdXdmF2sD"
      },
      "execution_count": null,
      "outputs": []
    },
    {
      "cell_type": "code",
      "source": [
        "import statistics\n",
        "\n",
        "k_yes = list(countries_temperature.keys())\n",
        "v_alues = list(countries_temperature.values())\n",
        "\n",
        "post_f_Values = [[] for x in k_yes]\n",
        "\n",
        "for index, i in enumerate(v_alues):\n",
        "      for j in i:\n",
        "          new_j = (j - 32)/1.8\n",
        "          post_f_Values[index].append(new_j)\n",
        "\n",
        "for a in range(len(k_yes)):\n",
        "   print(k_yes[a] + ' - ' + '{:.1f}'.format(statistics.mean(post_f_Values[a])) + ' C')"
      ],
      "metadata": {
        "colab": {
          "base_uri": "https://localhost:8080/"
        },
        "id": "u7IXrx7687Lq",
        "outputId": "20727191-de30-45d0-ee78-049dcf2ae4ac"
      },
      "execution_count": null,
      "outputs": [
        {
          "output_type": "stream",
          "name": "stdout",
          "text": [
            "Thailand - 23.9 C\n",
            "Germany - 13.4 C\n",
            "Russia - 3.9 C\n",
            "Poland - 12.1 C\n"
          ]
        }
      ]
    },
    {
      "cell_type": "markdown",
      "source": [
        "### Задача 7\n",
        "\n",
        "1) Скачайте файл"
      ],
      "metadata": {
        "id": "lGvulTLfFieA"
      }
    },
    {
      "cell_type": "code",
      "source": [
        "! gdown --id 1hLhmP6H2WmN8WWT7wk-GHTaXUmUQqYWx"
      ],
      "metadata": {
        "id": "1lW2rz4tIlST",
        "colab": {
          "base_uri": "https://localhost:8080/"
        },
        "outputId": "4a4535c8-4323-45c7-d67c-99b97f7917ba"
      },
      "execution_count": null,
      "outputs": [
        {
          "output_type": "stream",
          "name": "stdout",
          "text": [
            "/usr/local/lib/python3.7/dist-packages/gdown/cli.py:131: FutureWarning: Option `--id` was deprecated in version 4.3.1 and will be removed in 5.0. You don't need to pass it anymore to use a file ID.\n",
            "  category=FutureWarning,\n",
            "Downloading...\n",
            "From: https://drive.google.com/uc?id=1hLhmP6H2WmN8WWT7wk-GHTaXUmUQqYWx\n",
            "To: /content/histone_variants.fasta\n",
            "100% 1.64k/1.64k [00:00<00:00, 1.59MB/s]\n"
          ]
        }
      ]
    },
    {
      "cell_type": "markdown",
      "source": [
        "2) Прочитайте его и разделите на отдельные последовательности\n",
        "\n",
        "Пример вывода одной последовательности:\n",
        "\n",
        "\n",
        "\n",
        "```\n",
        "NP_172363.1|arabidopsis|H2A.X\n",
        "MSTGAGSGTTKGGRGKPKATKSVSRSSKAGLQFPVGRIARFLKSGKYAERVGAGAPVYLS\n",
        "AVLEYLAAEVLELAGNAARDNKKTRIVPRHIQLAVRNDEELSKLLGSVTIANGGVLPNIH\n",
        "QTLLPSKVGKNKGDIGSASQEF\n",
        "```\n",
        "\n",
        "*Примечание*: далее \"шапкой\" буду назвывать текст вида \"NP_172363.1|arabidopsis|H2A.X\", из них \"NP_172363.1\" - accession, \"arabidopsis|H2A.X\" - escription.\n"
      ],
      "metadata": {
        "id": "1WRo8H3OJBdw"
      }
    },
    {
      "cell_type": "code",
      "source": [
        "with open('histone_variants.fasta', 'r') as df:\n",
        "    "
      ],
      "metadata": {
        "id": "t8-oypKLImwf"
      },
      "execution_count": null,
      "outputs": []
    },
    {
      "cell_type": "markdown",
      "source": [
        "3) Ввыведите все accession-ы последовательностей"
      ],
      "metadata": {
        "id": "WrRBY5HNJT0g"
      }
    },
    {
      "cell_type": "code",
      "source": [
        ""
      ],
      "metadata": {
        "id": "rwzHD1tVJZnx"
      },
      "execution_count": null,
      "outputs": []
    },
    {
      "cell_type": "markdown",
      "source": [
        "4) Напишите генератор, который на вход принимает список последовательностей того же вида, что в пункте 2), а возвращать итератор accessions.\n",
        "\n",
        "*Примечание*: используйте здесь yeild вместо return"
      ],
      "metadata": {
        "id": "coOs8d_xLHgq"
      }
    },
    {
      "cell_type": "code",
      "source": [
        ""
      ],
      "metadata": {
        "id": "lHMuk5K5LI45"
      },
      "execution_count": null,
      "outputs": []
    },
    {
      "cell_type": "markdown",
      "source": [
        "5) Напишите функцию, которая на вход будет принимать 2 параметра:\n",
        "- последовательность вместе с \"шапкой\" (accession и описание)\n",
        "- разделитель (по умолчанию '|')\n",
        "\n",
        "и возвращать объект типа tuple (accession, description, sequence)"
      ],
      "metadata": {
        "id": "ATVMLFChJaPn"
      }
    },
    {
      "cell_type": "code",
      "source": [
        ""
      ],
      "metadata": {
        "id": "tGDxvEtpKIIf"
      },
      "execution_count": null,
      "outputs": []
    },
    {
      "cell_type": "markdown",
      "source": [
        "6) Напишите функцию, которая на вход будет принимать 2 параметра:\n",
        "- последовательность вместе с \"шапкой\" (accession и описание)\n",
        "- разделитель (по умолчанию '|')\n",
        "\n",
        "и возвращать объект типа dict {'accession': ..., 'description': ..., 'sequence': ...}"
      ],
      "metadata": {
        "id": "oOw7-rMUKIj-"
      }
    },
    {
      "cell_type": "code",
      "source": [
        ""
      ],
      "metadata": {
        "id": "TreSoOu0KUgh"
      },
      "execution_count": null,
      "outputs": []
    }
  ]
}