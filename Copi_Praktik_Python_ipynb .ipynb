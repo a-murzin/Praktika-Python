{
  "nbformat": 4,
  "nbformat_minor": 0,
  "metadata": {
    "colab": {
      "name": "Copi Praktik_Python.ipynb\"",
      "provenance": [],
      "collapsed_sections": []
    },
    "kernelspec": {
      "name": "python3",
      "display_name": "Python 3"
    },
    "language_info": {
      "name": "python"
    }
  },
  "cells": [
    {
      "cell_type": "markdown",
      "source": [
        "#Практическое упражнение\n",
        "\n",
        "1. Создайте репозиторий в своем Github.\n",
        "2. Склонируйте репозиторий на локальный компьютер для дальнейшей работы.\n",
        "3. Скачайте данный ноутбук и выполните задание (можно в Colab).\n",
        "4. Положите готовый ноутбук в проект и закомитьте изменения (в т.ч. залейте изменения в репозиторий Github)."
      ],
      "metadata": {
        "id": "f8TS6QSGMj4G"
      }
    },
    {
      "cell_type": "markdown",
      "metadata": {
        "id": "4_iKSgoL5MhM"
      },
      "source": [
        "###Задача 1\n",
        "Имеется последовательность кодирующей цепочки ДНК `aagaatgtatatgtctgacacgttagcctggtgactaagtagtaatactcaatgggcggttaaagcgc`. \n",
        "\n",
        "1) выведите количество символов"
      ]
    },
    {
      "cell_type": "code",
      "source": [
        "DNA_seq = \"aagaatgtatatgtctgacacgttagcctggtgactaagtagtaatactcaatgggcggttaaagcgc\"\n",
        "print(len(DNA_seq))"
      ],
      "metadata": {
        "id": "fB7V-Pl9OOnq",
        "colab": {
          "base_uri": "https://localhost:8080/"
        },
        "outputId": "4450d719-6e6b-4c72-d472-250a79bda23c"
      },
      "execution_count": null,
      "outputs": [
        {
          "output_type": "stream",
          "name": "stdout",
          "text": [
            "68\n"
          ]
        }
      ]
    },
    {
      "cell_type": "markdown",
      "metadata": {
        "id": "sYfvnAvM6VIX"
      },
      "source": [
        "2) выведите символы в последовательности начиная с 2 по 15"
      ]
    },
    {
      "cell_type": "code",
      "source": [
        "print(DNA_seq[1:15])"
      ],
      "metadata": {
        "id": "bnfi1PBFOPD3",
        "colab": {
          "base_uri": "https://localhost:8080/"
        },
        "outputId": "f2ab0a71-d9b9-4191-c490-b38d29902765"
      },
      "execution_count": null,
      "outputs": [
        {
          "output_type": "stream",
          "name": "stdout",
          "text": [
            "agaatgtatatgtc\n"
          ]
        }
      ]
    },
    {
      "cell_type": "markdown",
      "metadata": {
        "id": "4xIXQB8w6ZJE"
      },
      "source": [
        "3) выведите последовательность в обратном порядке"
      ]
    },
    {
      "cell_type": "code",
      "execution_count": null,
      "metadata": {
        "id": "FyRjV6-LLYEc",
        "colab": {
          "base_uri": "https://localhost:8080/"
        },
        "outputId": "2d900b60-71dc-4332-d89e-e73059862702"
      },
      "outputs": [
        {
          "output_type": "stream",
          "name": "stdout",
          "text": [
            "cgcgaaattggcgggtaactcataatgatgaatcagtggtccgattgcacagtctgtatatgtaagaa\n"
          ]
        }
      ],
      "source": [
        "print(DNA_seq[::-1])"
      ]
    },
    {
      "cell_type": "markdown",
      "metadata": {
        "id": "mCtj_VJurcNh"
      },
      "source": [
        "4) найдите количество вхождения каждого нуклеотида в последовательность"
      ]
    },
    {
      "cell_type": "code",
      "source": [
        "kol_a = 0\n",
        "kol_g = 0\n",
        "kol_t = 0\n",
        "kol_c = 0\n",
        "\n",
        "for i in range(0, len(DNA_seq)):\n",
        "    if DNA_seq[i] == \"a\": \n",
        "       kol_a += 1\n",
        "    elif DNA_seq[i] == \"g\": \n",
        "       kol_g += 1\n",
        "    elif DNA_seq[i] == \"t\": \n",
        "       kol_t += 1\n",
        "    elif DNA_seq[i] == \"c\": \n",
        "       kol_c += 1\n",
        "\n",
        "print(\"В нашей последовательности:\" + \" A:\" + str(kol_a) + \"  G:\" + str(kol_g) + \"  T:\" + str(kol_t) + \"  C:\" + str(kol_c))\n"
      ],
      "metadata": {
        "id": "fmP3b8OJOyWm",
        "colab": {
          "base_uri": "https://localhost:8080/"
        },
        "outputId": "d7453dbc-128f-4343-8cca-c5ace9de2adb"
      },
      "execution_count": null,
      "outputs": [
        {
          "output_type": "stream",
          "name": "stdout",
          "text": [
            "В нашей последовательности: A:21  G:18  T:18  C:11\n"
          ]
        }
      ]
    },
    {
      "cell_type": "markdown",
      "metadata": {
        "id": "NuB8szC26rGN"
      },
      "source": [
        "###Задача 2\n",
        "Имеется последовательность кодирующей цепочки ДНК `acgttaattagcagctgacggagtaatccccaaacctggagacgatgtat`.\n",
        "\n",
        "1) Создайте словарь транскрипции нуклеотидов ДНК в РНК"
      ]
    },
    {
      "cell_type": "code",
      "source": [
        "DNA_seq_a = DNA_seq.replace(\"a\", \"U\")\n",
        "DNA_seq_t = DNA_seq_a.replace(\"t\", \"A\")\n",
        "DNA_seq_g = DNA_seq_t.replace(\"c\", \"G\")\n",
        "DNA_seq_c = DNA_seq_g.replace(\"g\", \"C\")\n",
        "\n",
        "RNA = DNA_seq_c"
      ],
      "metadata": {
        "id": "mG4638jASDuq"
      },
      "execution_count": null,
      "outputs": []
    },
    {
      "cell_type": "markdown",
      "metadata": {
        "id": "K3lXVQkj7Yyp"
      },
      "source": [
        "2) Найдите последовательность РНК, которая образуется в результате транскрипции"
      ]
    },
    {
      "cell_type": "code",
      "source": [
        "print(RNA)"
      ],
      "metadata": {
        "id": "DCe_LUwROXS9",
        "outputId": "050a8176-76d1-49b3-e66f-1805423ccffd",
        "colab": {
          "base_uri": "https://localhost:8080/"
        }
      },
      "execution_count": null,
      "outputs": [
        {
          "output_type": "stream",
          "name": "stdout",
          "text": [
            "UUCUUACAUAUACAGACUGUGCAAUCGGACCACUGAUUCAUCAUUAUGAGUUACCCGCCAAUUUCGCG\n"
          ]
        }
      ]
    },
    {
      "cell_type": "markdown",
      "metadata": {
        "id": "jxHxzn-ZqX9x"
      },
      "source": [
        "###Задача 3\n",
        "Выведите все четные числа из списка \n",
        "\n",
        "```\n",
        "numbers = [    \n",
        "    386, 462, 47, 418, 907, 344, 236, 375, 823, 566, 597, 978, 328, 615, 953, 345, \n",
        "    399, 162, 758, 219, 918, 237, 412, 566, 826, 248, 866, 950, 626, 949, 687, 217, \n",
        "    815, 67, 104, 58, 512, 24, 892, 894, 767, 553, 81, 379, 843, 831, 445, 742, 717, \n",
        "    958,743, 527\n",
        "    ]\n",
        "```\n",
        "\n",
        "в том же порядке, прекратите вывод, как только любое из чисел будет меньше 237"
      ]
    },
    {
      "cell_type": "code",
      "source": [
        "numbers = [    \n",
        "    386, 462, 47, 418, 907, 344, 236, 375, 823, 566, 597, 978, 328, 615, 953, 345, \n",
        "    399, 162, 758, 219, 918, 237, 412, 566, 826, 248, 866, 950, 626, 949, 687, 217, \n",
        "    815, 67, 104, 58, 512, 24, 892, 894, 767, 553, 81, 379, 843, 831, 445, 742, 717, \n",
        "    958,743, 527\n",
        "    ]"
      ],
      "metadata": {
        "id": "ZMNsyBokSZj5"
      },
      "execution_count": null,
      "outputs": []
    },
    {
      "cell_type": "code",
      "source": [
        "for i in numbers:\n",
        "  if i < 237:\n",
        "    break\n",
        "  elif i % 2 == 0: \n",
        "    print(i)\n"
      ],
      "metadata": {
        "id": "v4vWigO_PN3x",
        "colab": {
          "base_uri": "https://localhost:8080/"
        },
        "outputId": "9da1acd2-4267-492f-ade5-028eb542bc85"
      },
      "execution_count": null,
      "outputs": [
        {
          "output_type": "stream",
          "name": "stdout",
          "text": [
            "386\n",
            "462\n"
          ]
        }
      ]
    },
    {
      "cell_type": "markdown",
      "metadata": {
        "id": "BZUnNYScmCRD"
      },
      "source": [
        "###Задача 4\n",
        "Напишите программу, которая удалит дубликаты из списка"
      ]
    },
    {
      "cell_type": "code",
      "metadata": {
        "id": "bj2evCuumEnz"
      },
      "source": [
        "test_list=['Eeny', 'meeny', 'miney', 'moe', 'Catch', 'a', 'tiger', 'by', 'his', 'toe', 'If', 'he', 'squeals', 'let', 'him', 'go', 'Eeny', 'meeny', 'miney', 'moe']"
      ],
      "execution_count": null,
      "outputs": []
    },
    {
      "cell_type": "code",
      "source": [
        "def f(list):\n",
        "    new_list = []\n",
        "    for i in list:\n",
        "        if i not in new_list:\n",
        "            new_list.append(i)\n",
        "    return new_list\n",
        "\n",
        "print(f(test_list))"
      ],
      "metadata": {
        "id": "_nS3qTKhPY80",
        "colab": {
          "base_uri": "https://localhost:8080/"
        },
        "outputId": "2b9aa94a-a578-48b3-bd75-60fa8d025916"
      },
      "execution_count": null,
      "outputs": [
        {
          "output_type": "stream",
          "name": "stdout",
          "text": [
            "['Eeny', 'meeny', 'miney', 'moe', 'Catch', 'a', 'tiger', 'by', 'his', 'toe', 'If', 'he', 'squeals', 'let', 'him', 'go']\n"
          ]
        }
      ]
    },
    {
      "cell_type": "markdown",
      "metadata": {
        "id": "VZEJYMjUpJCQ"
      },
      "source": [
        "###Задача 5\n",
        "Сложите значения в словарях, согласно ключам\n",
        "\n",
        "```\n",
        "d1 = {'a': 100, 'b': 200, 'c':300}\n",
        "d2 = {'a': 300, 'b': 200, 'd':400}\n",
        "\n",
        "Ожидаемый результат: {'a': 400, 'b': 400, 'd': 400, 'c': 300}\n",
        "```\n"
      ]
    },
    {
      "cell_type": "code",
      "source": [
        "d1 = {'a': 100, 'b': 200, 'c':300}\n",
        "d2 = {'a': 300, 'b': 200, 'd':400}"
      ],
      "metadata": {
        "id": "LXMrGttHPeEh"
      },
      "execution_count": null,
      "outputs": []
    },
    {
      "cell_type": "code",
      "source": [
        "def f(list1,list2):\n",
        "     list3 = {}\n",
        "     a3 = list1.get(\"a\") + list2.get(\"a\")\n",
        "     b3 = list1.get(\"b\") + list2.get(\"b\")\n",
        "     list3 = {\"a\": a3, \"b\": b3}\n",
        "     list2.update(list1)\n",
        "     list2.update(list3)\n",
        "     return list2 \n",
        "\n",
        "print(f(d1, d2))\n",
        "\n"
      ],
      "metadata": {
        "colab": {
          "base_uri": "https://localhost:8080/"
        },
        "id": "vDkyxMfxBEvu",
        "outputId": "74befa07-8d87-4ceb-b89d-21cd1f1afaa0"
      },
      "execution_count": null,
      "outputs": [
        {
          "output_type": "stream",
          "name": "stdout",
          "text": [
            "{'a': 400, 'b': 400, 'd': 400, 'c': 300}\n"
          ]
        }
      ]
    },
    {
      "cell_type": "markdown",
      "source": [
        "###Задача 6\n",
        "Имеется последовательность кодирующей цепочки ДНК `aagaatgtatatgtctgacacgttagcctggtgactaagtagtaatactcaatgggcggttaaagcgc`.\n",
        "\n",
        "Напишите функцию, которая будет принимать один параметр на вход - последовательность ДНК в виде строки, и возвращать количество вхождения каждого нуклеотида в нее в виде словаря."
      ],
      "metadata": {
        "id": "bmU7ngzdPx1m"
      }
    },
    {
      "cell_type": "code",
      "source": [
        "DNA_Seq = \"aagaatgtatatgtctgacacgttagcctggtgactaagtagtaatactcaatgggcggttaaagcgc\"\n",
        "\n",
        "def f(list):\n",
        "    new_list = []\n",
        "    kol_a = 0 \n",
        "    kol_g = 0\n",
        "    kol_t = 0\n",
        "    kol_c = 0\n",
        "    for i in range(0, len(DNA_seq)):\n",
        "            if DNA_seq[i] == \"a\": \n",
        "               kol_a += 1\n",
        "            elif DNA_seq[i] == \"g\": \n",
        "               kol_g += 1\n",
        "            elif DNA_seq[i] == \"t\": \n",
        "               kol_t += 1\n",
        "            elif DNA_seq[i] == \"c\": \n",
        "               kol_c += 1\n",
        "    new_list.append(kol_a)\n",
        "    new_list.append(kol_g)\n",
        "    new_list.append(kol_t)\n",
        "    new_list.append(kol_c)\n",
        "    return new_list\n",
        "\n",
        "print(\"В нашей последовательности количесвто A, G, T, C равно:\")\n",
        "print(f(DNA_Seq))\n"
      ],
      "metadata": {
        "id": "K8t3hIdcQDrY",
        "colab": {
          "base_uri": "https://localhost:8080/"
        },
        "outputId": "bd49a7e6-3957-4b48-bddc-b8c6093dad43"
      },
      "execution_count": null,
      "outputs": [
        {
          "output_type": "stream",
          "name": "stdout",
          "text": [
            "В нашей последовательности количесвто A, G, T, C равно:\n",
            "[21, 18, 18, 11]\n"
          ]
        }
      ]
    }
  ]
}